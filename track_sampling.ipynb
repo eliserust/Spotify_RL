{
 "cells": [
  {
   "cell_type": "markdown",
   "metadata": {},
   "source": [
    "## Track Sampling from Harddrive\n",
    "\n",
    "Elise Rust\n",
    "April 2023"
   ]
  },
  {
   "cell_type": "code",
   "execution_count": 2,
   "metadata": {},
   "outputs": [],
   "source": [
    "import pandas as pd\n",
    "import numpy as np\n"
   ]
  },
  {
   "cell_type": "code",
   "execution_count": 19,
   "metadata": {},
   "outputs": [
    {
     "name": "stdout",
     "output_type": "stream",
     "text": [
      "10000\n",
      "50704\n",
      "50704\n"
     ]
    }
   ],
   "source": [
    "# LOOKING AT MINI DATASET\n",
    "df_sessions_mini = pd.read_csv('data/training_set/log_mini.csv')\n",
    "df_tracks_mini = pd.read_csv('data/track_features/tf_mini.csv')\n",
    "print(len(df_sessions_mini['session_id'].unique()))\n",
    "print(len(df_sessions_mini['track_id_clean'].unique()))\n",
    "print(len(df_tracks_mini['track_id'].unique()))"
   ]
  },
  {
   "cell_type": "code",
   "execution_count": 31,
   "metadata": {},
   "outputs": [
    {
     "name": "stdout",
     "output_type": "stream",
     "text": [
      "Number of sessions in DF: 178342\n",
      "Number of tracks in DF: 319008\n"
     ]
    }
   ],
   "source": [
    "# REAL DATA\n",
    "df_sessions_sampled = pd.read_csv('data/training_set/log_sampled.csv')\n",
    "df_tracks_sampled = pd.read_csv('data/track_features/tf_sampled.csv')\n",
    "print(\"Number of sessions in DF: \" + str(len(df_sessions_sampled['session_id'].unique())))\n",
    "print(\"Number of tracks in DF: \" + str(len(df_tracks_sampled['track_id'].unique())))\n",
    "# Sanity check num tracks in tracks df equals num tracks in sessions df\n",
    "assert len(df_sessions_sampled['track_id_clean'].unique()) == len(df_tracks_sampled['track_id'].unique())"
   ]
  },
  {
   "cell_type": "code",
   "execution_count": 25,
   "metadata": {},
   "outputs": [
    {
     "name": "stdout",
     "output_type": "stream",
     "text": [
      "178342\n",
      "319008\n",
      "1853311\n",
      "1853077\n"
     ]
    }
   ],
   "source": [
    "# Read in files from Toshiba \n",
    "# YOU CAN IGNORE THIS\n",
    "df_sessions = pd.read_csv('/volumes/TOSHIBA EXT/spotify/training_set/log_0_20180715_000000000000.csv')\n",
    "df_tracks1 = pd.read_csv('/volumes/TOSHIBA EXT/spotify/track_features/tf_000000000000.csv')\n",
    "df_tracks2 = pd.read_csv('/volumes/TOSHIBA EXT/spotify/track_features/tf_000000000001.csv')\n",
    "\n",
    "print(len(df_sessions['session_id'].unique()))\n",
    "print(len(df_sessions['track_id_clean'].unique()))\n",
    "unique_tracks = df_sessions['track_id_clean'].unique()\n",
    "print(len(df_tracks1['track_id'].unique()))\n",
    "print(len(df_tracks2['track_id'].unique()))\n"
   ]
  },
  {
   "cell_type": "code",
   "execution_count": 26,
   "metadata": {},
   "outputs": [
    {
     "name": "stdout",
     "output_type": "stream",
     "text": [
      "159344\n",
      "159664\n"
     ]
    }
   ],
   "source": [
    "df_tracks1_subset = df_tracks1[df_tracks1['track_id'].isin(unique_tracks)]\n",
    "df_tracks2_subset = df_tracks2[df_tracks2['track_id'].isin(unique_tracks)]\n",
    "print(len(df_tracks1_subset['track_id'].unique()))\n",
    "print(len(df_tracks2_subset['track_id'].unique()))"
   ]
  },
  {
   "cell_type": "code",
   "execution_count": 27,
   "metadata": {},
   "outputs": [
    {
     "name": "stdout",
     "output_type": "stream",
     "text": [
      "319008\n"
     ]
    }
   ],
   "source": [
    "tracks_sampled = pd.concat([df_tracks1_subset,df_tracks2_subset]).drop_duplicates(subset=\"track_id\").reset_index(drop=True)\n",
    "print(len(tracks_sampled[\"track_id\"].unique()))"
   ]
  },
  {
   "cell_type": "code",
   "execution_count": 29,
   "metadata": {},
   "outputs": [],
   "source": [
    "tracks_sampled.to_csv(\"sampled_track.csv\", index=False)"
   ]
  }
 ],
 "metadata": {
  "interpreter": {
   "hash": "11598a8d8bb4da8f64789220d73b24820e66d4fb32c19defc740ff15c4cd40b7"
  },
  "kernelspec": {
   "display_name": "Python 3.9.12 ('base')",
   "language": "python",
   "name": "python3"
  },
  "language_info": {
   "codemirror_mode": {
    "name": "ipython",
    "version": 3
   },
   "file_extension": ".py",
   "mimetype": "text/x-python",
   "name": "python",
   "nbconvert_exporter": "python",
   "pygments_lexer": "ipython3",
   "version": "3.9.12"
  },
  "orig_nbformat": 4
 },
 "nbformat": 4,
 "nbformat_minor": 2
}
